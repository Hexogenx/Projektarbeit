{
 "cells": [
  {
   "cell_type": "code",
   "execution_count": 2,
   "source": [
    "def mainmenu():\r\n",
    "    \"\"\"Prozedur zum Erstellen des Hauptmenüs\"\"\"\r\n",
    "    print(\"\"\"Zahlenumrechner\r\n",
    "    Bitte wählen Sie ....\r\n",
    "    (1) Von Hexadezimalzahl umwandeln\r\n",
    "    (2) Von Dezimalzahl umwandeln\r\n",
    "    (3) Von Oktalzahl umwandeln\r\n",
    "    (4) Von Binärzahl umwandeln\r\n",
    "    (q) Beenden\"\"\")\r\n",
    "\r\n",
    "def binmenu():\r\n",
    "    \"\"\"Prozedur zum Erstellen des Auswahlmenüs für binäre Zahlen\"\"\"\r\n",
    "    print(f\"\"\"Zahlenumrechner\r\n",
    "    Bitte wählen Sie ....\r\n",
    "    (1) Nach Hexadezimalzahl umwandeln\r\n",
    "    (2) Nach Dezimalzahl umwandeln\r\n",
    "    (3) Nach Oktalzahl umwandeln\r\n",
    "    (q) Zurück zum Hauptmenü\"\"\")\r\n",
    "\r\n",
    "def octmenu():\r\n",
    "    \"\"\"Prozedur zum Erstellen des Auswahlmenüs für oktale Zahlen\"\"\"\r\n",
    "    print(f\"\"\"Zahlenumrechner\r\n",
    "    Bitte wählen Sie ....\r\n",
    "    (1) Nach Hexadezimalzahl umwandeln\r\n",
    "    (2) Nach Dezimalzahl umwandeln\r\n",
    "    (3) Nach Binärzahl umwandeln\r\n",
    "    (q) Zurück zum Hauptmenü\"\"\")\r\n",
    "\r\n",
    "def decmenu():\r\n",
    "    \"\"\"Prozedur zum Erstellen des Auswahlmenüs für dezimale Zahlen\"\"\"\r\n",
    "    print(f\"\"\"Zahlenumrechner\r\n",
    "    Bitte wählen Sie ....\r\n",
    "    (1) Nach Hexadezimalzahl umwandeln\r\n",
    "    (2) Nach Oktalzahl umwandeln\r\n",
    "    (3) Nach Binärzahl umwandeln\r\n",
    "    (q) Zurück zum Hauptmenü\"\"\")\r\n",
    "\r\n",
    "def hexmenu():\r\n",
    "    \"\"\"Prozedur zum Erstellen des Auswahlmenüs für hexadezimale Zahlen\"\"\"\r\n",
    "    print(f\"\"\"Zahlenumrechner\r\n",
    "    Bitte wählen Sie ....\r\n",
    "    (1) Nach Dezimalzahl umwandeln\r\n",
    "    (2) Nach Oktalzahl umwandeln\r\n",
    "    (3) Nach Binärzahl umwandeln\r\n",
    "    (q) Zurück zum Hauptmenü\"\"\")"
   ],
   "outputs": [],
   "metadata": {}
  }
 ],
 "metadata": {
  "orig_nbformat": 4,
  "language_info": {
   "name": "python",
   "version": "3.8.10",
   "mimetype": "text/x-python",
   "codemirror_mode": {
    "name": "ipython",
    "version": 3
   },
   "pygments_lexer": "ipython3",
   "nbconvert_exporter": "python",
   "file_extension": ".py"
  },
  "kernelspec": {
   "name": "python3",
   "display_name": "Python 3.8.10 64-bit ('base': conda)"
  },
  "interpreter": {
   "hash": "611c565121f31daae5dbc11eab21df038144b94c47dea77a62d729aba682c6d6"
  }
 },
 "nbformat": 4,
 "nbformat_minor": 2
}